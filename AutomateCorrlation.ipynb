{
 "cells": [
  {
   "cell_type": "code",
   "execution_count": 1,
   "metadata": {},
   "outputs": [
    {
     "name": "stderr",
     "output_type": "stream",
     "text": [
      "C:\\Users\\mateu\\AppData\\Local\\Temp\\ipykernel_12052\\1662815981.py:2: DeprecationWarning: \n",
      "Pyarrow will become a required dependency of pandas in the next major release of pandas (pandas 3.0),\n",
      "(to allow more performant data types, such as the Arrow string type, and better interoperability with other libraries)\n",
      "but was not found to be installed on your system.\n",
      "If this would cause problems for you,\n",
      "please provide us feedback at https://github.com/pandas-dev/pandas/issues/54466\n",
      "        \n",
      "  import pandas as pd\n"
     ]
    }
   ],
   "source": [
    "import numpy as np\n",
    "import pandas as pd"
   ]
  },
  {
   "cell_type": "code",
   "execution_count": null,
   "metadata": {},
   "outputs": [],
   "source": [
    "from scipy.stats import chi2_contingency, pointbiserialr\n",
    "\n",
    "class Correlation:\n",
    "    M_ = None\n",
    "    \n",
    "    def __init__(self, column1:list, column2:list, data:pd.DataFrame):\n",
    "        self.columnNames1 = column1\n",
    "        self.columnNames2 = column2\n",
    "        self.data         = data\n",
    "        self.tupla        = ( len(self.columnNames1) , len(self.columnNames2) ) \n",
    "\n",
    "    def quiQuadrada(self):\n",
    "        self.M_ = np.zeros(shape=self.tupla)\n",
    "        \n",
    "        for enumI, i in enumerate(self.columnNames1):\n",
    "            for enumJ, j in enumerate(self.columnNames2):\n",
    "                chi, p, _, _ = chi2_contingency( pd.crosstab(self.data[i].values, self.data[j].values) )\n",
    "                self.M_[enumI,enumJ] = p\n",
    "        \n",
    "        return pd.DataFrame(self.M_, columns=self.columnNames1, index=self.columnNames2)\n",
    "\n",
    "    def pointBisserl(self):\n",
    "        self.M_ = np.zeros(shape=self.tupla)\n",
    "        for enumI, i in enumerate(self.columnNames1):\n",
    "            for enumJ, j in enumerate(self.columnNames2):\n",
    "                corr, p_value = pointbiserialr(self.data[i].values, self.data[j].values)\n",
    "              \n",
    "                self.M_[enumI, enumJ] = p_value\n",
    "        return pd.DataFrame(self.M_.T, columns=self.columnNames1, index=self.columnNames2)"
   ]
  },
  {
   "cell_type": "markdown",
   "metadata": {},
   "source": [
    "Ao uso de redes neurais e verificar a proporção de classes , e utilizar o hiperparametros `class_weight` para atribuir peso as classes"
   ]
  },
  {
   "cell_type": "code",
   "execution_count": null,
   "metadata": {},
   "outputs": [],
   "source": [
    "from collections import Counter\n",
    "\n",
    "def calcular_pesos_classes(y):\n",
    "    # Contar o número de amostras de cada classe\n",
    "    contagem_classes = Counter(y)\n",
    "    \n",
    "    # Calcular o número total de amostras\n",
    "    total_amostras = sum(contagem_classes.values())\n",
    "    \n",
    "    # Calcular a proporção de cada classe\n",
    "    proporcoes_classes = {classe: total_amostras / contagem for classe, contagem in contagem_classes.items()}\n",
    "    \n",
    "    # Calcular os pesos das classes\n",
    "    pesos_classes = {classe: total_amostras / (len(contagem_classes) * contagem) for classe, contagem in contagem_classes.items()}\n",
    "    \n",
    "    return pesos_classes"
   ]
  },
  {
   "cell_type": "code",
   "execution_count": null,
   "metadata": {},
   "outputs": [],
   "source": []
  }
 ],
 "metadata": {
  "kernelspec": {
   "display_name": "venvGlobal",
   "language": "python",
   "name": "python3"
  },
  "language_info": {
   "codemirror_mode": {
    "name": "ipython",
    "version": 3
   },
   "file_extension": ".py",
   "mimetype": "text/x-python",
   "name": "python",
   "nbconvert_exporter": "python",
   "pygments_lexer": "ipython3",
   "version": "3.11.8"
  }
 },
 "nbformat": 4,
 "nbformat_minor": 2
}
