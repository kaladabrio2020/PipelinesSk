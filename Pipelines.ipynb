{
 "cells": [
  {
   "cell_type": "code",
   "execution_count": 7,
   "metadata": {},
   "outputs": [],
   "source": [
    "import numpy as np \n",
    "import pandas as pd\n",
    "from sklearn.base import TransformerMixin, BaseEstimator\n",
    "from sklearn.preprocessing import StandardScaler, LabelEncoder"
   ]
  },
  {
   "cell_type": "code",
   "execution_count": 3,
   "metadata": {},
   "outputs": [],
   "source": [
    "class Padronizacao(BaseEstimator,TransformerMixin):\n",
    "    def __init__(self,columns:list | str) -> None:\n",
    "        self.columns = columns \n",
    "\n",
    "    def fit(self,X,y=None):\n",
    "        return self\n",
    "    \n",
    "    def transform(self, X:pd.DataFrame):  \n",
    "        for column in self.columns:\n",
    "            X[column] = StandardScaler()\\\n",
    "                .fit_transform(X[column].values.reshape(-1, 1))\n",
    "        return X"
   ]
  },
  {
   "cell_type": "code",
   "execution_count": 4,
   "metadata": {},
   "outputs": [],
   "source": [
    "class Teto(BaseEstimator,TransformerMixin):\n",
    "    def __init__(self,columns:list | str) -> None:\n",
    "        self.columns = columns \n",
    "\n",
    "    def fit(self,X,y=None):\n",
    "        return self\n",
    "    \n",
    "    def transform(self, X:pd.DataFrame):\n",
    "        for column in self.columns:\n",
    "            X[column] = np.floor(X[column].values)\n",
    "        return X"
   ]
  },
  {
   "cell_type": "code",
   "execution_count": 5,
   "metadata": {},
   "outputs": [],
   "source": [
    "class Dummies(BaseEstimator,TransformerMixin):\n",
    "    def __init__(self,columns:list | str) -> None:\n",
    "        self.columns = columns \n",
    "\n",
    "    def fit(self,X,y=None):\n",
    "        return self\n",
    "    \n",
    "    def transform(self, X:pd.DataFrame):\n",
    "        return pd.get_dummies(X,columns=self.columns,dtype=int)"
   ]
  },
  {
   "cell_type": "code",
   "execution_count": 8,
   "metadata": {},
   "outputs": [],
   "source": [
    "class RemovendoAtributos(BaseEstimator,TransformerMixin):\n",
    "    def __init__(self,columns:list) -> None:\n",
    "        self.columns = columns\n",
    "\n",
    "    def fit(self,X,y=None):\n",
    "        return self\n",
    "    \n",
    "    def transform(self,X,y=None):\n",
    "        return X.drop(columns=self.columns,axis=0)"
   ]
  },
  {
   "cell_type": "code",
   "execution_count": null,
   "metadata": {},
   "outputs": [],
   "source": [
    "class AtributosEncoder(BaseEstimator,TransformerMixin):\n",
    "    def __init__(self,columns:list|str):\n",
    "        self.columns = columns\n",
    "\n",
    "    def fit(self, X, y=None):\n",
    "        return self\n",
    "    \n",
    "    def transform(self, X, y=None):\n",
    "        for column in self.columns:\n",
    "            X[column] = LabelEncoder()\\\n",
    "                .fit_transform(X[column].values.reshape(-1, 1))\n",
    "        return X   "
   ]
  },
  {
   "cell_type": "code",
   "execution_count": null,
   "metadata": {},
   "outputs": [],
   "source": [
    "class Discretização(BaseEstimator, TransformerMixin):\n",
    "    '''\n",
    "    column: é a coluna que deseja discretizar\n",
    "    name  : Nome da nova coluna\n",
    "    bins  : é o intervalo ou lista de intervalos\n",
    "    labels: Valores categoricos\n",
    "    '''\n",
    "    def __init__(self, column:str, name:str,bins:list, labels:list=None) -> None:\n",
    "        self.column = column\n",
    "        self.name   = name\n",
    "        self.bins   = bins\n",
    "        self.labels = labels\n",
    "\n",
    "    def fit(self, X, y=None):\n",
    "        return self\n",
    "    \n",
    "    def transform(self, X:pd.DataFrame, y=None):\n",
    "        label = None if self.labels == None else self.labels\n",
    "        new_column   = pd.cut( x=X[self.column], bins = self.bins, labels = label )\n",
    "        X[self.name] = new_column        \n",
    "        return X     "
   ]
  },
  {
   "cell_type": "code",
   "execution_count": null,
   "metadata": {},
   "outputs": [],
   "source": [
    "class TransformancaoTarget(BaseEstimator,TransformerMixin):\n",
    "    def __init__(self, column, dtype=1):\n",
    "        self.column = column\n",
    "        self.dtype  = dtype\n",
    "\n",
    "    def fit(self,X,y=None):\n",
    "        return self\n",
    "    \n",
    "    def transform(self,X:pd.DataFrame,y=None):\n",
    "        X = X.drop(index=X.loc[X[self.column]==0].index,axis=1)\n",
    "\n",
    "        if self.dtype == 1:\n",
    "            X['price'] = np.log1p(X[self.column])\n",
    "        else:\n",
    "            transformation = QuantileTransformer(output_distribution='normal', random_state=42) \n",
    "            X['price']= transformation.fit_transform(X['price'].values.reshape(-1,1))\n",
    "\n",
    "        \n",
    "        return X"
   ]
  }
 ],
 "metadata": {
  "kernelspec": {
   "display_name": "Python 3",
   "language": "python",
   "name": "python3"
  },
  "language_info": {
   "codemirror_mode": {
    "name": "ipython",
    "version": 3
   },
   "file_extension": ".py",
   "mimetype": "text/x-python",
   "name": "python",
   "nbconvert_exporter": "python",
   "pygments_lexer": "ipython3",
   "version": "3.11.8"
  }
 },
 "nbformat": 4,
 "nbformat_minor": 2
}
