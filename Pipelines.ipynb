{
 "cells": [
  {
   "cell_type": "code",
   "execution_count": 7,
   "metadata": {},
   "outputs": [],
   "source": [
    "import numpy as np \n",
    "import pandas as pd\n",
    "from sklearn.base import TransformerMixin, BaseEstimator\n",
    "from sklearn.preprocessing import StandardScaler, LabelEncoder"
   ]
  },
  {
   "cell_type": "code",
   "execution_count": 3,
   "metadata": {},
   "outputs": [],
   "source": [
    "class Padronizacao(BaseEstimator,TransformerMixin):\n",
    "    def __init__(self,columns:list | str) -> None:\n",
    "        self.columns = columns \n",
    "\n",
    "    def fit(self,X,y=None):\n",
    "        return self\n",
    "    \n",
    "    def transform(self, X:pd.DataFrame):  \n",
    "        if ( type(self.columns) == list ):\n",
    "            X[self.columns]   = StandardScaler().fit_transform(X[self.columns])\n",
    "        else:\n",
    "            X[[self.columns]] = StandardScaler().fit_transform(X[[self.columns]])\n",
    "        return X"
   ]
  },
  {
   "cell_type": "code",
   "execution_count": 6,
   "metadata": {},
   "outputs": [],
   "source": [
    "class TransformandoAtributos(BaseEstimator,TransformerMixin):\n",
    "    def __init__(self,columns:list|str):\n",
    "        self.columns = columns\n",
    "\n",
    "    def fit(self,X,y=None):\n",
    "        return self\n",
    "    \n",
    "    def transform(self,X,y=None):\n",
    "        if (type(self.columns) == list):\n",
    "            X[self.columns] = LabelEncoder().fit_transform(X[self.columns])\n",
    "        else:\n",
    "            X[self.columns] = LabelEncoder().fit_transform(X[self.columns].values)\n",
    "        return X   "
   ]
  },
  {
   "cell_type": "code",
   "execution_count": 4,
   "metadata": {},
   "outputs": [],
   "source": [
    "class Teto(BaseEstimator,TransformerMixin):\n",
    "    def __init__(self,columns:list | str) -> None:\n",
    "        self.columns = columns \n",
    "\n",
    "    def fit(self,X,y=None):\n",
    "        return self\n",
    "    \n",
    "    def transform(self, X:pd.DataFrame):\n",
    "        X[self.columns] = np.floor(X[self.columns].values)\n",
    "        return X"
   ]
  },
  {
   "cell_type": "code",
   "execution_count": 5,
   "metadata": {},
   "outputs": [],
   "source": [
    "class Dummies(BaseEstimator,TransformerMixin):\n",
    "    def __init__(self,columns:list | str) -> None:\n",
    "        self.columns = columns \n",
    "\n",
    "    def fit(self,X,y=None):\n",
    "        return self\n",
    "    \n",
    "    def transform(self, X:pd.DataFrame):\n",
    "        return pd.get_dummies(X,columns=self.columns,dtype=int)"
   ]
  },
  {
   "cell_type": "code",
   "execution_count": 8,
   "metadata": {},
   "outputs": [],
   "source": [
    "class RemovendoAtributos(BaseEstimator,TransformerMixin):\n",
    "    def __init__(self,columns:list) -> None:\n",
    "        self.columns = columns\n",
    "\n",
    "    def fit(self,X,y=None):\n",
    "        return self\n",
    "    \n",
    "    def transform(self,X,y=None):\n",
    "        return X.drop(columns=self.columns,axis=0)"
   ]
  }
 ],
 "metadata": {
  "kernelspec": {
   "display_name": "Python 3",
   "language": "python",
   "name": "python3"
  },
  "language_info": {
   "codemirror_mode": {
    "name": "ipython",
    "version": 3
   },
   "file_extension": ".py",
   "mimetype": "text/x-python",
   "name": "python",
   "nbconvert_exporter": "python",
   "pygments_lexer": "ipython3",
   "version": "3.11.8"
  }
 },
 "nbformat": 4,
 "nbformat_minor": 2
}
